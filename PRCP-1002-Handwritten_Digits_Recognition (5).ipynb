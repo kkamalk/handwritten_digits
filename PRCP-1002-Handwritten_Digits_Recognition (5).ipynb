{
 "cells": [
  {
   "cell_type": "markdown",
   "id": "9b6a9fd4",
   "metadata": {},
   "source": [
    "# To Recognise Handwritten Digits."
   ]
  },
  {
   "cell_type": "markdown",
   "id": "bd157959",
   "metadata": {},
   "source": [
    "## MNIST Dataset\n",
    "The MNIST database contains 60,000 training images and 10,000 testing images taken from American Census Bureau employees and American high school students. The MNIST dataset is one of the most common datasets used for image classification and accessible from many different sources. In fact, even Tensorflow and Keras allow us to import and download the MNIST dataset directly from their API.\n",
    "\n",
    "The input feature contains images.\n",
    "Output feature contains 10 classes (digits varying from 0 to 9)"
   ]
  },
  {
   "cell_type": "code",
   "execution_count": 1,
   "id": "ded92c2f",
   "metadata": {
    "scrolled": true
   },
   "outputs": [],
   "source": [
    "import numpy as np # linear algebra\n",
    "import pandas as pd # data processing, CSV file I/O (e.g. pd.read_csv)\n",
    "import matplotlib\n",
    "import matplotlib.pyplot as plt # plotting library\n",
    "%matplotlib inline\n",
    "from keras.models import Sequential\n",
    "import tensorflow as tf\n",
    "from tensorflow.keras.optimizers import Adam # - Works ,RMSprop\n",
    "from tensorflow.keras.utils import to_categorical, plot_model\n",
    "from keras import  backend as K\n",
    "from keras.layers import Dense\n",
    "from keras.layers.convolutional import Conv2D, MaxPooling2D\n",
    "# from keras.models import Sequential\n",
    "from keras.layers import Activation, Flatten, Dropout\n",
    "from tensorflow.keras.layers import BatchNormalization\n",
    "from keras.layers import ELU, PReLU, LeakyReLU\n",
    "\n",
    "# Ignore the warnings\n",
    "import warnings\n",
    "warnings.filterwarnings(\"ignore\")"
   ]
  },
  {
   "cell_type": "code",
   "execution_count": 2,
   "id": "2d754586",
   "metadata": {},
   "outputs": [],
   "source": [
    "## Loading the Data\n",
    "from tensorflow.keras.datasets import mnist\n",
    "(x_train, y_train), (x_test, y_test) = mnist.load_data()"
   ]
  },
  {
   "cell_type": "markdown",
   "id": "54db18fa",
   "metadata": {},
   "source": [
    "## Basic Checks"
   ]
  },
  {
   "cell_type": "code",
   "execution_count": 3,
   "id": "fa2f3ad4",
   "metadata": {},
   "outputs": [
    {
     "data": {
      "text/plain": [
       "(array([[[0, 0, 0, ..., 0, 0, 0],\n",
       "         [0, 0, 0, ..., 0, 0, 0],\n",
       "         [0, 0, 0, ..., 0, 0, 0],\n",
       "         ...,\n",
       "         [0, 0, 0, ..., 0, 0, 0],\n",
       "         [0, 0, 0, ..., 0, 0, 0],\n",
       "         [0, 0, 0, ..., 0, 0, 0]],\n",
       " \n",
       "        [[0, 0, 0, ..., 0, 0, 0],\n",
       "         [0, 0, 0, ..., 0, 0, 0],\n",
       "         [0, 0, 0, ..., 0, 0, 0],\n",
       "         ...,\n",
       "         [0, 0, 0, ..., 0, 0, 0],\n",
       "         [0, 0, 0, ..., 0, 0, 0],\n",
       "         [0, 0, 0, ..., 0, 0, 0]],\n",
       " \n",
       "        [[0, 0, 0, ..., 0, 0, 0],\n",
       "         [0, 0, 0, ..., 0, 0, 0],\n",
       "         [0, 0, 0, ..., 0, 0, 0],\n",
       "         ...,\n",
       "         [0, 0, 0, ..., 0, 0, 0],\n",
       "         [0, 0, 0, ..., 0, 0, 0],\n",
       "         [0, 0, 0, ..., 0, 0, 0]],\n",
       " \n",
       "        ...,\n",
       " \n",
       "        [[0, 0, 0, ..., 0, 0, 0],\n",
       "         [0, 0, 0, ..., 0, 0, 0],\n",
       "         [0, 0, 0, ..., 0, 0, 0],\n",
       "         ...,\n",
       "         [0, 0, 0, ..., 0, 0, 0],\n",
       "         [0, 0, 0, ..., 0, 0, 0],\n",
       "         [0, 0, 0, ..., 0, 0, 0]],\n",
       " \n",
       "        [[0, 0, 0, ..., 0, 0, 0],\n",
       "         [0, 0, 0, ..., 0, 0, 0],\n",
       "         [0, 0, 0, ..., 0, 0, 0],\n",
       "         ...,\n",
       "         [0, 0, 0, ..., 0, 0, 0],\n",
       "         [0, 0, 0, ..., 0, 0, 0],\n",
       "         [0, 0, 0, ..., 0, 0, 0]],\n",
       " \n",
       "        [[0, 0, 0, ..., 0, 0, 0],\n",
       "         [0, 0, 0, ..., 0, 0, 0],\n",
       "         [0, 0, 0, ..., 0, 0, 0],\n",
       "         ...,\n",
       "         [0, 0, 0, ..., 0, 0, 0],\n",
       "         [0, 0, 0, ..., 0, 0, 0],\n",
       "         [0, 0, 0, ..., 0, 0, 0]]], dtype=uint8),\n",
       " array([5, 0, 4, ..., 5, 6, 8], dtype=uint8))"
      ]
     },
     "execution_count": 3,
     "metadata": {},
     "output_type": "execute_result"
    }
   ],
   "source": [
    "(x_train, y_train)"
   ]
  },
  {
   "cell_type": "code",
   "execution_count": 4,
   "id": "7ea29b34",
   "metadata": {},
   "outputs": [
    {
     "data": {
      "text/plain": [
       "array([[  0,   0,   0,   0,   0,   0,   0,   0,   0,   0,   0,   0,   0,\n",
       "          0,   0,   0,   0,   0,   0,   0,   0,   0,   0,   0,   0,   0,\n",
       "          0,   0],\n",
       "       [  0,   0,   0,   0,   0,   0,   0,   0,   0,   0,   0,   0,   0,\n",
       "          0,   0,   0,   0,   0,   0,   0,   0,   0,   0,   0,   0,   0,\n",
       "          0,   0],\n",
       "       [  0,   0,   0,   0,   0,   0,   0,   0,   0,   0,   0,   0,   0,\n",
       "          0,   0,   0,   0,   0,   0,   0,   0,   0,   0,   0,   0,   0,\n",
       "          0,   0],\n",
       "       [  0,   0,   0,   0,   0,   0,   0,   0,   0,   0,   0,   0,   0,\n",
       "          0,   0,   0,   0,   0,   0,   0,   0,   0,   0,   0,   0,   0,\n",
       "          0,   0],\n",
       "       [  0,   0,   0,   0,   0,   0,   0,   0,   0,   0,   0,   0,   0,\n",
       "          0,   0,   0,   0,   0,   0,   0,   0,   0,   0,   0,   0,   0,\n",
       "          0,   0],\n",
       "       [  0,   0,   0,   0,   0,   0,   0,   0,   0,   0,   0,   0,   0,\n",
       "          0,   0,   0,   0,   0,   0,   0,   0,   0,   0,   0,   0,   0,\n",
       "          0,   0],\n",
       "       [  0,   0,   0,   0,   0,   0, 120, 249, 229, 143,  43,  34,  34,\n",
       "         34,  34,  34,  34,  34,  26,   0,   0,   0,   0,   0,   0,   0,\n",
       "          0,   0],\n",
       "       [  0,   0,   0,   0,   0,   0, 180, 252, 252, 252, 252, 252, 252,\n",
       "        252, 253, 252, 252, 252, 236, 176,  44,   0,   0,   0,   0,   0,\n",
       "          0,   0],\n",
       "       [  0,   0,   0,   0,   0,   0,  17, 101, 153, 153, 244, 252, 252,\n",
       "        252, 253, 252, 252, 252, 252, 252, 227,  39,   0,   0,   0,   0,\n",
       "          0,   0],\n",
       "       [  0,   0,   0,   0,   0,   0,   0,   0,   0,   0,  63, 121, 121,\n",
       "        121, 231, 201, 121, 189, 252, 252, 242,   4,   0,   0,   0,   0,\n",
       "          0,   0],\n",
       "       [  0,   0,   0,   0,   0,   0,   0,   0,   0,   0,   0,   0,   0,\n",
       "          0,   0,   0,   0, 156, 252, 252, 169,   0,   0,   0,   0,   0,\n",
       "          0,   0],\n",
       "       [  0,   0,   0,   0,   0,   0,   0,   0,   0,   0,   0,   0,   0,\n",
       "          0,   0,   0,  79, 250, 252, 252,  93,   0,   0,   0,   0,   0,\n",
       "          0,   0],\n",
       "       [  0,   0,   0,   0,   0,   0,   0,   0,   0,   0,   0,   0,   0,\n",
       "          0,   0,   3, 154, 252, 252, 205,  11,   0,   0,   0,   0,   0,\n",
       "          0,   0],\n",
       "       [  0,   0,   0,   0,   0,   0,   0,   0,   0,   0,   0,   0,   0,\n",
       "          0,   0, 133, 252, 252, 243,  45,   0,   0,   0,   0,   0,   0,\n",
       "          0,   0],\n",
       "       [  0,   0,   0,   0,   0,   0,   0,   0,   0,   0,   0,   0,   0,\n",
       "          0,  44, 199, 252, 252, 163,   0,   0,   0,   0,   0,   0,   0,\n",
       "          0,   0],\n",
       "       [  0,   0,   0,   0,   0,   0,   0,   0,   0,   0,   0,   0,   0,\n",
       "          0, 239, 252, 252, 233,  12,   0,   0,   0,   0,   0,   0,   0,\n",
       "          0,   0],\n",
       "       [  0,   0,   0,   0,   0,   0,   0,   0,   0,   0,   0,   0,  11,\n",
       "        177, 255, 253, 253, 154,   0,   0,   0,   0,   0,   0,   0,   0,\n",
       "          0,   0],\n",
       "       [  0,   0,   0,   0,   0,   0,   0,   0,   0,   0,   0,   0, 107,\n",
       "        252, 253, 252, 154,   3,   0,   0,   0,   0,   0,   0,   0,   0,\n",
       "          0,   0],\n",
       "       [  0,   0,   0,   0,   0,   0,   0,   0,   0,   0,   0,  81, 241,\n",
       "        252, 253, 154,   8,   0,   0,   0,   0,   0,   0,   0,   0,   0,\n",
       "          0,   0],\n",
       "       [  0,   0,   0,   0,   0,   0,   0,   0,   0,   0,  16, 206, 252,\n",
       "        252, 226,  37,   0,   0,   0,   0,   0,   0,   0,   0,   0,   0,\n",
       "          0,   0],\n",
       "       [  0,   0,   0,   0,   0,   0,   0,   0,   0,   0, 193, 252, 252,\n",
       "        252,  39,   0,   0,   0,   0,   0,   0,   0,   0,   0,   0,   0,\n",
       "          0,   0],\n",
       "       [  0,   0,   0,   0,   0,   0,   0,   0,  20, 127, 248, 252, 252,\n",
       "        128,   0,   0,   0,   0,   0,   0,   0,   0,   0,   0,   0,   0,\n",
       "          0,   0],\n",
       "       [  0,   0,   0,   0,   0,   0,   0,   0,  61, 252, 252, 252, 181,\n",
       "          3,   0,   0,   0,   0,   0,   0,   0,   0,   0,   0,   0,   0,\n",
       "          0,   0],\n",
       "       [  0,   0,   0,   0,   0,   0,   0,  14, 218, 252, 252, 252, 156,\n",
       "          0,   0,   0,   0,   0,   0,   0,   0,   0,   0,   0,   0,   0,\n",
       "          0,   0],\n",
       "       [  0,   0,   0,   0,   0,   0,   0, 105, 252, 252, 252, 138,  17,\n",
       "          0,   0,   0,   0,   0,   0,   0,   0,   0,   0,   0,   0,   0,\n",
       "          0,   0],\n",
       "       [  0,   0,   0,   0,   0,   0,   0,  27, 214, 252, 146,  13,   0,\n",
       "          0,   0,   0,   0,   0,   0,   0,   0,   0,   0,   0,   0,   0,\n",
       "          0,   0],\n",
       "       [  0,   0,   0,   0,   0,   0,   0,   0,   0,   0,   0,   0,   0,\n",
       "          0,   0,   0,   0,   0,   0,   0,   0,   0,   0,   0,   0,   0,\n",
       "          0,   0],\n",
       "       [  0,   0,   0,   0,   0,   0,   0,   0,   0,   0,   0,   0,   0,\n",
       "          0,   0,   0,   0,   0,   0,   0,   0,   0,   0,   0,   0,   0,\n",
       "          0,   0]], dtype=uint8)"
      ]
     },
     "execution_count": 4,
     "metadata": {},
     "output_type": "execute_result"
    }
   ],
   "source": [
    "x_train[4000]"
   ]
  },
  {
   "cell_type": "code",
   "execution_count": 5,
   "id": "d5988486",
   "metadata": {},
   "outputs": [
    {
     "data": {
      "text/plain": [
       "7"
      ]
     },
     "execution_count": 5,
     "metadata": {},
     "output_type": "execute_result"
    }
   ],
   "source": [
    "y_train[4000]"
   ]
  },
  {
   "cell_type": "code",
   "execution_count": 6,
   "id": "e176ffe0",
   "metadata": {},
   "outputs": [
    {
     "data": {
      "text/plain": [
       "dtype('uint8')"
      ]
     },
     "execution_count": 6,
     "metadata": {},
     "output_type": "execute_result"
    }
   ],
   "source": [
    "y_train.dtype"
   ]
  },
  {
   "cell_type": "code",
   "execution_count": 7,
   "id": "da261da1",
   "metadata": {
    "scrolled": true
   },
   "outputs": [
    {
     "data": {
      "text/plain": [
       "(60000, 28, 28)"
      ]
     },
     "execution_count": 7,
     "metadata": {},
     "output_type": "execute_result"
    }
   ],
   "source": [
    "x_train.shape"
   ]
  },
  {
   "cell_type": "code",
   "execution_count": 8,
   "id": "86bbcc62",
   "metadata": {},
   "outputs": [
    {
     "data": {
      "text/plain": [
       "(60000,)"
      ]
     },
     "execution_count": 8,
     "metadata": {},
     "output_type": "execute_result"
    }
   ],
   "source": [
    "y_train.shape"
   ]
  },
  {
   "cell_type": "code",
   "execution_count": 9,
   "id": "be8b4802",
   "metadata": {},
   "outputs": [
    {
     "data": {
      "text/plain": [
       "(10000, 28, 28)"
      ]
     },
     "execution_count": 9,
     "metadata": {},
     "output_type": "execute_result"
    }
   ],
   "source": [
    "x_test.shape"
   ]
  },
  {
   "cell_type": "code",
   "execution_count": 10,
   "id": "451fd891",
   "metadata": {},
   "outputs": [
    {
     "data": {
      "text/plain": [
       "(10000,)"
      ]
     },
     "execution_count": 10,
     "metadata": {},
     "output_type": "execute_result"
    }
   ],
   "source": [
    "y_test.shape"
   ]
  },
  {
   "cell_type": "code",
   "execution_count": 11,
   "id": "5fbf1ee7",
   "metadata": {},
   "outputs": [
    {
     "data": {
      "image/png": "[encoded data removed]",
      "text/plain": [
       "<Figure size 288x288 with 1 Axes>"
      ]
     },
     "metadata": {
      "needs_background": "light"
     },
     "output_type": "display_data"
    },
    {
     "data": {
      "image/png": "[encoded data removed]",
      "text/plain": [
       "<Figure size 288x288 with 1 Axes>"
      ]
     },
     "metadata": {
      "needs_background": "light"
     },
     "output_type": "display_data"
    },
    {
     "data": {
      "image/png": "[encoded data removed]",
      "text/plain": [
       "<Figure size 288x288 with 1 Axes>"
      ]
     },
     "metadata": {
      "needs_background": "light"
     },
     "output_type": "display_data"
    },
    {
     "data": {
      "image/png": "[encoded data removed]",
      "text/plain": [
       "<Figure size 288x288 with 1 Axes>"
      ]
     },
     "metadata": {
      "needs_background": "light"
     },
     "output_type": "display_data"
    },
    {
     "data": {
      "image/png": "[encoded data removed]",
      "text/plain": [
       "<Figure size 288x288 with 1 Axes>"
      ]
     },
     "metadata": {
      "needs_background": "light"
     },
     "output_type": "display_data"
    }
   ],
   "source": [
    "## Accesing first 5 input images\n",
    "for i in range(5):\n",
    "    plt.matshow(x_train[i])"
   ]
  },
  {
   "cell_type": "code",
   "execution_count": 12,
   "id": "4f30e7ab",
   "metadata": {},
   "outputs": [
    {
     "data": {
      "text/plain": [
       "array([5, 0, 4, 1, 9], dtype=uint8)"
      ]
     },
     "execution_count": 12,
     "metadata": {},
     "output_type": "execute_result"
    }
   ],
   "source": [
    "## First 5 output labels\n",
    "y_train[:5]"
   ]
  },
  {
   "cell_type": "markdown",
   "id": "83013868",
   "metadata": {},
   "source": [
    "### *Observations from the above Analysis\n",
    "    1.While Loading the data it is split into x_train,y_train with 60000 data and x_test,y_test with 10000 data.\n",
    "    2.The input variables x_train and x_test are 3 dimensional,Output variable y_train and y_test are 1 dimensional.\n",
    "    3.Data Type of arrays is 'uint8'."
   ]
  },
  {
   "cell_type": "markdown",
   "id": "087bfeed",
   "metadata": {},
   "source": [
    "## Data Preprocessing"
   ]
  },
  {
   "cell_type": "markdown",
   "id": "1c81f643",
   "metadata": {},
   "source": [
    "- Normalizing the values in the array as it ranges from 0 to 255"
   ]
  },
  {
   "cell_type": "code",
   "execution_count": 13,
   "id": "411ffd68",
   "metadata": {},
   "outputs": [],
   "source": [
    "x_train=x_train/255\n",
    "x_test=x_test/255"
   ]
  },
  {
   "cell_type": "code",
   "execution_count": 14,
   "id": "46504c1f",
   "metadata": {},
   "outputs": [
    {
     "data": {
      "text/plain": [
       "array([[0.        , 0.        , 0.        , 0.        , 0.        ,\n",
       "        0.        , 0.        , 0.        , 0.        , 0.        ,\n",
       "        0.        , 0.        , 0.        , 0.        , 0.        ,\n",
       "        0.        , 0.        , 0.        , 0.        , 0.        ,\n",
       "        0.        , 0.        , 0.        , 0.        , 0.        ,\n",
       "        0.        , 0.        , 0.        ],\n",
       "       [0.        , 0.        , 0.        , 0.        , 0.        ,\n",
       "        0.        , 0.        , 0.        , 0.        , 0.        ,\n",
       "        0.        , 0.        , 0.        , 0.        , 0.        ,\n",
       "        0.        , 0.        , 0.        , 0.        , 0.        ,\n",
       "        0.        , 0.        , 0.        , 0.        , 0.        ,\n",
       "        0.        , 0.        , 0.        ],\n",
       "       [0.        , 0.        , 0.        , 0.        , 0.        ,\n",
       "        0.        , 0.        , 0.        , 0.        , 0.        ,\n",
       "        0.        , 0.        , 0.        , 0.        , 0.        ,\n",
       "        0.        , 0.        , 0.        , 0.        , 0.        ,\n",
       "        0.        , 0.        , 0.        , 0.        , 0.        ,\n",
       "        0.        , 0.        , 0.        ],\n",
       "       [0.        , 0.        , 0.        , 0.        , 0.        ,\n",
       "        0.        , 0.        , 0.        , 0.        , 0.        ,\n",
       "        0.        , 0.        , 0.        , 0.        , 0.        ,\n",
       "        0.        , 0.        , 0.        , 0.        , 0.        ,\n",
       "        0.        , 0.        , 0.        , 0.        , 0.        ,\n",
       "        0.        , 0.        , 0.        ],\n",
       "       [0.        , 0.        , 0.        , 0.        , 0.        ,\n",
       "        0.        , 0.        , 0.        , 0.        , 0.        ,\n",
       "        0.        , 0.        , 0.        , 0.        , 0.        ,\n",
       "        0.        , 0.        , 0.        , 0.        , 0.        ,\n",
       "        0.        , 0.        , 0.        , 0.        , 0.        ,\n",
       "        0.        , 0.        , 0.        ],\n",
       "       [0.        , 0.        , 0.        , 0.        , 0.        ,\n",
       "        0.        , 0.        , 0.        , 0.        , 0.        ,\n",
       "        0.        , 0.        , 0.        , 0.        , 0.        ,\n",
       "        0.        , 0.        , 0.        , 0.        , 0.        ,\n",
       "        0.        , 0.        , 0.        , 0.        , 0.        ,\n",
       "        0.        , 0.        , 0.        ],\n",
       "       [0.        , 0.        , 0.        , 0.        , 0.        ,\n",
       "        0.        , 0.47058824, 0.97647059, 0.89803922, 0.56078431,\n",
       "        0.16862745, 0.13333333, 0.13333333, 0.13333333, 0.13333333,\n",
       "        0.13333333, 0.13333333, 0.13333333, 0.10196078, 0.        ,\n",
       "        0.        , 0.        , 0.        , 0.        , 0.        ,\n",
       "        0.        , 0.        , 0.        ],\n",
       "       [0.        , 0.        , 0.        , 0.        , 0.        ,\n",
       "        0.        , 0.70588235, 0.98823529, 0.98823529, 0.98823529,\n",
       "        0.98823529, 0.98823529, 0.98823529, 0.98823529, 0.99215686,\n",
       "        0.98823529, 0.98823529, 0.98823529, 0.9254902 , 0.69019608,\n",
       "        0.17254902, 0.        , 0.        , 0.        , 0.        ,\n",
       "        0.        , 0.        , 0.        ],\n",
       "       [0.        , 0.        , 0.        , 0.        , 0.        ,\n",
       "        0.        , 0.06666667, 0.39607843, 0.6       , 0.6       ,\n",
       "        0.95686275, 0.98823529, 0.98823529, 0.98823529, 0.99215686,\n",
       "        0.98823529, 0.98823529, 0.98823529, 0.98823529, 0.98823529,\n",
       "        0.89019608, 0.15294118, 0.        , 0.        , 0.        ,\n",
       "        0.        , 0.        , 0.        ],\n",
       "       [0.        , 0.        , 0.        , 0.        , 0.        ,\n",
       "        0.        , 0.        , 0.        , 0.        , 0.        ,\n",
       "        0.24705882, 0.4745098 , 0.4745098 , 0.4745098 , 0.90588235,\n",
       "        0.78823529, 0.4745098 , 0.74117647, 0.98823529, 0.98823529,\n",
       "        0.94901961, 0.01568627, 0.        , 0.        , 0.        ,\n",
       "        0.        , 0.        , 0.        ],\n",
       "       [0.        , 0.        , 0.        , 0.        , 0.        ,\n",
       "        0.        , 0.        , 0.        , 0.        , 0.        ,\n",
       "        0.        , 0.        , 0.        , 0.        , 0.        ,\n",
       "        0.        , 0.        , 0.61176471, 0.98823529, 0.98823529,\n",
       "        0.6627451 , 0.        , 0.        , 0.        , 0.        ,\n",
       "        0.        , 0.        , 0.        ],\n",
       "       [0.        , 0.        , 0.        , 0.        , 0.        ,\n",
       "        0.        , 0.        , 0.        , 0.        , 0.        ,\n",
       "        0.        , 0.        , 0.        , 0.        , 0.        ,\n",
       "        0.        , 0.30980392, 0.98039216, 0.98823529, 0.98823529,\n",
       "        0.36470588, 0.        , 0.        , 0.        , 0.        ,\n",
       "        0.        , 0.        , 0.        ],\n",
       "       [0.        , 0.        , 0.        , 0.        , 0.        ,\n",
       "        0.        , 0.        , 0.        , 0.        , 0.        ,\n",
       "        0.        , 0.        , 0.        , 0.        , 0.        ,\n",
       "        0.01176471, 0.60392157, 0.98823529, 0.98823529, 0.80392157,\n",
       "        0.04313725, 0.        , 0.        , 0.        , 0.        ,\n",
       "        0.        , 0.        , 0.        ],\n",
       "       [0.        , 0.        , 0.        , 0.        , 0.        ,\n",
       "        0.        , 0.        , 0.        , 0.        , 0.        ,\n",
       "        0.        , 0.        , 0.        , 0.        , 0.        ,\n",
       "        0.52156863, 0.98823529, 0.98823529, 0.95294118, 0.17647059,\n",
       "        0.        , 0.        , 0.        , 0.        , 0.        ,\n",
       "        0.        , 0.        , 0.        ],\n",
       "       [0.        , 0.        , 0.        , 0.        , 0.        ,\n",
       "        0.        , 0.        , 0.        , 0.        , 0.        ,\n",
       "        0.        , 0.        , 0.        , 0.        , 0.17254902,\n",
       "        0.78039216, 0.98823529, 0.98823529, 0.63921569, 0.        ,\n",
       "        0.        , 0.        , 0.        , 0.        , 0.        ,\n",
       "        0.        , 0.        , 0.        ],\n",
       "       [0.        , 0.        , 0.        , 0.        , 0.        ,\n",
       "        0.        , 0.        , 0.        , 0.        , 0.        ,\n",
       "        0.        , 0.        , 0.        , 0.        , 0.9372549 ,\n",
       "        0.98823529, 0.98823529, 0.91372549, 0.04705882, 0.        ,\n",
       "        0.        , 0.        , 0.        , 0.        , 0.        ,\n",
       "        0.        , 0.        , 0.        ],\n",
       "       [0.        , 0.        , 0.        , 0.        , 0.        ,\n",
       "        0.        , 0.        , 0.        , 0.        , 0.        ,\n",
       "        0.        , 0.        , 0.04313725, 0.69411765, 1.        ,\n",
       "        0.99215686, 0.99215686, 0.60392157, 0.        , 0.        ,\n",
       "        0.        , 0.        , 0.        , 0.        , 0.        ,\n",
       "        0.        , 0.        , 0.        ],\n",
       "       [0.        , 0.        , 0.        , 0.        , 0.        ,\n",
       "        0.        , 0.        , 0.        , 0.        , 0.        ,\n",
       "        0.        , 0.        , 0.41960784, 0.98823529, 0.99215686,\n",
       "        0.98823529, 0.60392157, 0.01176471, 0.        , 0.        ,\n",
       "        0.        , 0.        , 0.        , 0.        , 0.        ,\n",
       "        0.        , 0.        , 0.        ],\n",
       "       [0.        , 0.        , 0.        , 0.        , 0.        ,\n",
       "        0.        , 0.        , 0.        , 0.        , 0.        ,\n",
       "        0.        , 0.31764706, 0.94509804, 0.98823529, 0.99215686,\n",
       "        0.60392157, 0.03137255, 0.        , 0.        , 0.        ,\n",
       "        0.        , 0.        , 0.        , 0.        , 0.        ,\n",
       "        0.        , 0.        , 0.        ],\n",
       "       [0.        , 0.        , 0.        , 0.        , 0.        ,\n",
       "        0.        , 0.        , 0.        , 0.        , 0.        ,\n",
       "        0.0627451 , 0.80784314, 0.98823529, 0.98823529, 0.88627451,\n",
       "        0.14509804, 0.        , 0.        , 0.        , 0.        ,\n",
       "        0.        , 0.        , 0.        , 0.        , 0.        ,\n",
       "        0.        , 0.        , 0.        ],\n",
       "       [0.        , 0.        , 0.        , 0.        , 0.        ,\n",
       "        0.        , 0.        , 0.        , 0.        , 0.        ,\n",
       "        0.75686275, 0.98823529, 0.98823529, 0.98823529, 0.15294118,\n",
       "        0.        , 0.        , 0.        , 0.        , 0.        ,\n",
       "        0.        , 0.        , 0.        , 0.        , 0.        ,\n",
       "        0.        , 0.        , 0.        ],\n",
       "       [0.        , 0.        , 0.        , 0.        , 0.        ,\n",
       "        0.        , 0.        , 0.        , 0.07843137, 0.49803922,\n",
       "        0.97254902, 0.98823529, 0.98823529, 0.50196078, 0.        ,\n",
       "        0.        , 0.        , 0.        , 0.        , 0.        ,\n",
       "        0.        , 0.        , 0.        , 0.        , 0.        ,\n",
       "        0.        , 0.        , 0.        ],\n",
       "       [0.        , 0.        , 0.        , 0.        , 0.        ,\n",
       "        0.        , 0.        , 0.        , 0.23921569, 0.98823529,\n",
       "        0.98823529, 0.98823529, 0.70980392, 0.01176471, 0.        ,\n",
       "        0.        , 0.        , 0.        , 0.        , 0.        ,\n",
       "        0.        , 0.        , 0.        , 0.        , 0.        ,\n",
       "        0.        , 0.        , 0.        ],\n",
       "       [0.        , 0.        , 0.        , 0.        , 0.        ,\n",
       "        0.        , 0.        , 0.05490196, 0.85490196, 0.98823529,\n",
       "        0.98823529, 0.98823529, 0.61176471, 0.        , 0.        ,\n",
       "        0.        , 0.        , 0.        , 0.        , 0.        ,\n",
       "        0.        , 0.        , 0.        , 0.        , 0.        ,\n",
       "        0.        , 0.        , 0.        ],\n",
       "       [0.        , 0.        , 0.        , 0.        , 0.        ,\n",
       "        0.        , 0.        , 0.41176471, 0.98823529, 0.98823529,\n",
       "        0.98823529, 0.54117647, 0.06666667, 0.        , 0.        ,\n",
       "        0.        , 0.        , 0.        , 0.        , 0.        ,\n",
       "        0.        , 0.        , 0.        , 0.        , 0.        ,\n",
       "        0.        , 0.        , 0.        ],\n",
       "       [0.        , 0.        , 0.        , 0.        , 0.        ,\n",
       "        0.        , 0.        , 0.10588235, 0.83921569, 0.98823529,\n",
       "        0.57254902, 0.05098039, 0.        , 0.        , 0.        ,\n",
       "        0.        , 0.        , 0.        , 0.        , 0.        ,\n",
       "        0.        , 0.        , 0.        , 0.        , 0.        ,\n",
       "        0.        , 0.        , 0.        ],\n",
       "       [0.        , 0.        , 0.        , 0.        , 0.        ,\n",
       "        0.        , 0.        , 0.        , 0.        , 0.        ,\n",
       "        0.        , 0.        , 0.        , 0.        , 0.        ,\n",
       "        0.        , 0.        , 0.        , 0.        , 0.        ,\n",
       "        0.        , 0.        , 0.        , 0.        , 0.        ,\n",
       "        0.        , 0.        , 0.        ],\n",
       "       [0.        , 0.        , 0.        , 0.        , 0.        ,\n",
       "        0.        , 0.        , 0.        , 0.        , 0.        ,\n",
       "        0.        , 0.        , 0.        , 0.        , 0.        ,\n",
       "        0.        , 0.        , 0.        , 0.        , 0.        ,\n",
       "        0.        , 0.        , 0.        , 0.        , 0.        ,\n",
       "        0.        , 0.        , 0.        ]])"
      ]
     },
     "execution_count": 14,
     "metadata": {},
     "output_type": "execute_result"
    }
   ],
   "source": [
    "x_train[4000]"
   ]
  },
  {
   "cell_type": "markdown",
   "id": "180cdcfc",
   "metadata": {},
   "source": [
    "-  Reshaping x_train and x_test"
   ]
  },
  {
   "cell_type": "code",
   "execution_count": 15,
   "id": "356fb0ac",
   "metadata": {},
   "outputs": [
    {
     "data": {
      "text/plain": [
       "dtype('float64')"
      ]
     },
     "execution_count": 15,
     "metadata": {},
     "output_type": "execute_result"
    }
   ],
   "source": [
    "x_test.dtype"
   ]
  },
  {
   "cell_type": "code",
   "execution_count": 16,
   "id": "e45f8671",
   "metadata": {},
   "outputs": [],
   "source": [
    "x_train=x_train.reshape(60000,784)\n",
    "x_test=x_test.reshape(10000,784)"
   ]
  },
  {
   "cell_type": "code",
   "execution_count": 17,
   "id": "f13f7c45",
   "metadata": {},
   "outputs": [
    {
     "data": {
      "text/plain": [
       "(60000, 784)"
      ]
     },
     "execution_count": 17,
     "metadata": {},
     "output_type": "execute_result"
    }
   ],
   "source": [
    "x_train.shape"
   ]
  },
  {
   "cell_type": "code",
   "execution_count": 18,
   "id": "e210c34a",
   "metadata": {},
   "outputs": [
    {
     "data": {
      "text/plain": [
       "(10000, 784)"
      ]
     },
     "execution_count": 18,
     "metadata": {},
     "output_type": "execute_result"
    }
   ],
   "source": [
    "x_test.shape"
   ]
  },
  {
   "cell_type": "code",
   "execution_count": 19,
   "id": "6e341091",
   "metadata": {
    "scrolled": false
   },
   "outputs": [
    {
     "data": {
      "image/png": "[encoded data removed]",
      "text/plain": [
       "<Figure size 288x288 with 1 Axes>"
      ]
     },
     "metadata": {
      "needs_background": "light"
     },
     "output_type": "display_data"
    },
    {
     "data": {
      "image/png": "[encoded data removed]",
      "text/plain": [
       "<Figure size 288x288 with 1 Axes>"
      ]
     },
     "metadata": {
      "needs_background": "light"
     },
     "output_type": "display_data"
    },
    {
     "data": {
      "image/png": "[encoded data removed]",
      "text/plain": [
       "<Figure size 288x288 with 1 Axes>"
      ]
     },
     "metadata": {
      "needs_background": "light"
     },
     "output_type": "display_data"
    },
    {
     "data": {
      "image/png": "[encoded data removed]",
      "text/plain": [
       "<Figure size 288x288 with 1 Axes>"
      ]
     },
     "metadata": {
      "needs_background": "light"
     },
     "output_type": "display_data"
    },
    {
     "data": {
      "image/png": "[encoded data removed]",
      "text/plain": [
       "<Figure size 288x288 with 1 Axes>"
      ]
     },
     "metadata": {
      "needs_background": "light"
     },
     "output_type": "display_data"
    }
   ],
   "source": [
    "for i in range(5):\n",
    "    random_digit=x_train[i]\n",
    "    some_random_digit=random_digit.reshape(28,28)\n",
    "    plt.matshow(some_random_digit,cmap=matplotlib.cm.binary,interpolation='nearest')"
   ]
  },
  {
   "cell_type": "code",
   "execution_count": 20,
   "id": "2fb9830f",
   "metadata": {},
   "outputs": [
    {
     "data": {
      "text/plain": [
       "array([5, 0, 4, 1, 9], dtype=uint8)"
      ]
     },
     "execution_count": 20,
     "metadata": {},
     "output_type": "execute_result"
    }
   ],
   "source": [
    "y_train[:5]"
   ]
  },
  {
   "cell_type": "markdown",
   "id": "1d94e613",
   "metadata": {},
   "source": [
    "### *Observation from the above Analysis\n",
    "    1.After Normalization array values ranges between 0 to 1.\n",
    "    2.x_train and x_test are reshaped from 3 dimension to 2 dimension so as to fit the model."
   ]
  },
  {
   "cell_type": "markdown",
   "id": "890a29cb",
   "metadata": {},
   "source": [
    "## Model Building And Evaluation"
   ]
  },
  {
   "cell_type": "markdown",
   "id": "c5f3b0ee",
   "metadata": {},
   "source": [
    "### Logistic Regression"
   ]
  },
  {
   "cell_type": "code",
   "execution_count": 21,
   "id": "9884903d",
   "metadata": {},
   "outputs": [
    {
     "name": "stdout",
     "output_type": "stream",
     "text": [
      "Model Predicted value [7 2 1 0 4]\n",
      "Actual Value [7 2 1 0 4]\n",
      "Model Score 0.9258\n"
     ]
    }
   ],
   "source": [
    "from sklearn.linear_model import LogisticRegression\n",
    "clf=LogisticRegression()\n",
    "clf.fit(x_train,y_train)\n",
    "s=clf.score(x_test,y_test)\n",
    "y_pred=clf.predict(x_test[0:5])\n",
    "print(\"Model Predicted value\",y_pred)\n",
    "print(\"Actual Value\",y_test[0:5])\n",
    "print(\"Model Score\",s)"
   ]
  },
  {
   "cell_type": "markdown",
   "id": "a5900062",
   "metadata": {},
   "source": [
    "### Support Vector Machine"
   ]
  },
  {
   "cell_type": "code",
   "execution_count": 22,
   "id": "c76d6723",
   "metadata": {},
   "outputs": [
    {
     "name": "stdout",
     "output_type": "stream",
     "text": [
      "Model Predicted value [7 2 1 0 4]\n",
      "Actual Value [7 2 1 0 4]\n",
      "Model Score 0.9792\n"
     ]
    }
   ],
   "source": [
    "from sklearn import svm\n",
    "clf_svm=svm.SVC()\n",
    "clf_svm.fit(x_train,y_train)\n",
    "s=clf_svm.score(x_test,y_test)\n",
    "y_pred=clf_svm.predict(x_test[0:5])\n",
    "print(\"Model Predicted value\",y_pred)\n",
    "print(\"Actual Value\",y_test[0:5])\n",
    "print(\"Model Score\",s)"
   ]
  },
  {
   "cell_type": "markdown",
   "id": "b01a2bc4",
   "metadata": {},
   "source": [
    "### K-Nearest Neighbors"
   ]
  },
  {
   "cell_type": "code",
   "execution_count": 23,
   "id": "1f261290",
   "metadata": {},
   "outputs": [
    {
     "name": "stdout",
     "output_type": "stream",
     "text": [
      "Model Predicted value [7 2 1 0 4]\n",
      "Actual Value [7 2 1 0 4]\n",
      "Model Score 0.9688\n"
     ]
    }
   ],
   "source": [
    "from sklearn.neighbors import KNeighborsClassifier\n",
    "clf_KNN = KNeighborsClassifier()\n",
    "clf_KNN.fit(x_train, y_train)\n",
    "s=clf_KNN.score(x_test,y_test)\n",
    "y_pred=clf_KNN.predict(x_test[0:5])\n",
    "print(\"Model Predicted value\",y_pred)\n",
    "print(\"Actual Value\",y_test[0:5])\n",
    "print(\"Model Score\",s)"
   ]
  },
  {
   "cell_type": "markdown",
   "id": "2865e02e",
   "metadata": {},
   "source": [
    "### *Observation From the above Analysis. \n",
    "    Support Vector Machine Model has good score of 97.92%"
   ]
  },
  {
   "cell_type": "markdown",
   "id": "206be154",
   "metadata": {},
   "source": [
    "- Resizing image to make it suitable for applying operations for Neural Network"
   ]
  },
  {
   "cell_type": "code",
   "execution_count": 24,
   "id": "f75edcc6",
   "metadata": {},
   "outputs": [],
   "source": [
    "x_train = x_train.reshape(-1, 28, 28, 1)\n",
    "x_test = x_test.reshape(-1, 28, 28, 1)\n",
    "x_train = x_train.astype('float32')\n",
    "x_test = x_test.astype('float32')"
   ]
  },
  {
   "cell_type": "markdown",
   "id": "21b3832b",
   "metadata": {},
   "source": [
    "### Creating a Deep Neural Network"
   ]
  },
  {
   "cell_type": "code",
   "execution_count": 25,
   "id": "44d146b0",
   "metadata": {},
   "outputs": [],
   "source": [
    "model=Sequential()"
   ]
  },
  {
   "cell_type": "code",
   "execution_count": 26,
   "id": "eb38031a",
   "metadata": {},
   "outputs": [],
   "source": [
    "model.add(Flatten(input_shape=(28,28)))\n",
    "model.add(Dense(128,activation='relu'))\n",
    "model.add(Dense(10,activation='softmax'))"
   ]
  },
  {
   "cell_type": "code",
   "execution_count": 27,
   "id": "c7c4fa8b",
   "metadata": {},
   "outputs": [
    {
     "name": "stdout",
     "output_type": "stream",
     "text": [
      "Model: \"sequential\"\n",
      "_________________________________________________________________\n",
      " Layer (type)                Output Shape              Param #   \n",
      "=================================================================\n",
      " flatten (Flatten)           (None, 784)               0         \n",
      "                                                                 \n",
      " dense (Dense)               (None, 128)               100480    \n",
      "                                                                 \n",
      " dense_1 (Dense)             (None, 10)                1290      \n",
      "                                                                 \n",
      "=================================================================\n",
      "Total params: 101,770\n",
      "Trainable params: 101,770\n",
      "Non-trainable params: 0\n",
      "_________________________________________________________________\n"
     ]
    }
   ],
   "source": [
    "model.summary()"
   ]
  },
  {
   "cell_type": "code",
   "execution_count": 28,
   "id": "6f244c2c",
   "metadata": {},
   "outputs": [],
   "source": [
    "model.compile(optimizer='Adam',loss='sparse_categorical_crossentropy',metrics=['sparse_categorical_accuracy'])"
   ]
  },
  {
   "cell_type": "code",
   "execution_count": 29,
   "id": "843298d8",
   "metadata": {},
   "outputs": [
    {
     "name": "stdout",
     "output_type": "stream",
     "text": [
      "Epoch 1/10\n",
      "1500/1500 [==============================] - 17s 7ms/step - loss: 0.2810 - sparse_categorical_accuracy: 0.9192 - val_loss: 0.1535 - val_sparse_categorical_accuracy: 0.9564\n",
      "Epoch 2/10\n",
      "1500/1500 [==============================] - 9s 6ms/step - loss: 0.1233 - sparse_categorical_accuracy: 0.9640 - val_loss: 0.1105 - val_sparse_categorical_accuracy: 0.9675\n",
      "Epoch 3/10\n",
      "1500/1500 [==============================] - 9s 6ms/step - loss: 0.0854 - sparse_categorical_accuracy: 0.9748 - val_loss: 0.0945 - val_sparse_categorical_accuracy: 0.9721\n",
      "Epoch 4/10\n",
      "1500/1500 [==============================] - 9s 6ms/step - loss: 0.0626 - sparse_categorical_accuracy: 0.9813 - val_loss: 0.0840 - val_sparse_categorical_accuracy: 0.9739\n",
      "Epoch 5/10\n",
      "1500/1500 [==============================] - 9s 6ms/step - loss: 0.0503 - sparse_categorical_accuracy: 0.9845 - val_loss: 0.0827 - val_sparse_categorical_accuracy: 0.9754\n",
      "Epoch 6/10\n",
      "1500/1500 [==============================] - 9s 6ms/step - loss: 0.0379 - sparse_categorical_accuracy: 0.9883 - val_loss: 0.0922 - val_sparse_categorical_accuracy: 0.9727\n",
      "Epoch 7/10\n",
      "1500/1500 [==============================] - 9s 6ms/step - loss: 0.0312 - sparse_categorical_accuracy: 0.9900 - val_loss: 0.0976 - val_sparse_categorical_accuracy: 0.9718\n",
      "Epoch 8/10\n",
      "1500/1500 [==============================] - 9s 6ms/step - loss: 0.0241 - sparse_categorical_accuracy: 0.9924 - val_loss: 0.0843 - val_sparse_categorical_accuracy: 0.9767\n",
      "Epoch 9/10\n",
      "1500/1500 [==============================] - 9s 6ms/step - loss: 0.0189 - sparse_categorical_accuracy: 0.9945 - val_loss: 0.0944 - val_sparse_categorical_accuracy: 0.9755\n",
      "Epoch 10/10\n",
      "1500/1500 [==============================] - 9s 6ms/step - loss: 0.0161 - sparse_categorical_accuracy: 0.9950 - val_loss: 0.0937 - val_sparse_categorical_accuracy: 0.9765\n"
     ]
    }
   ],
   "source": [
    "history=model.fit(x_train,y_train,batch_size=32,epochs=10,verbose=1,validation_split=0.2)"
   ]
  },
  {
   "cell_type": "code",
   "execution_count": 30,
   "id": "5e20dbf3",
   "metadata": {},
   "outputs": [
    {
     "name": "stdout",
     "output_type": "stream",
     "text": [
      "313/313 [==============================] - 2s 3ms/step - loss: 0.0834 - sparse_categorical_accuracy: 0.9768\n"
     ]
    },
    {
     "data": {
      "text/plain": [
       "[0.08335640281438828, 0.9768000245094299]"
      ]
     },
     "execution_count": 30,
     "metadata": {},
     "output_type": "execute_result"
    }
   ],
   "source": [
    "model.evaluate(x_test,y_test)"
   ]
  },
  {
   "cell_type": "code",
   "execution_count": 31,
   "id": "0111df0f",
   "metadata": {
    "scrolled": true
   },
   "outputs": [
    {
     "name": "stdout",
     "output_type": "stream",
     "text": [
      "313/313 [==============================] - 2s 3ms/step\n"
     ]
    }
   ],
   "source": [
    "y_prob=model.predict(x_test)"
   ]
  },
  {
   "cell_type": "code",
   "execution_count": 32,
   "id": "ab48d280",
   "metadata": {},
   "outputs": [],
   "source": [
    "y_predicted=y_prob.argmax(axis=1)"
   ]
  },
  {
   "cell_type": "code",
   "execution_count": 33,
   "id": "2fc42d85",
   "metadata": {},
   "outputs": [
    {
     "data": {
      "image/png": "[encoded data removed]",
      "text/plain": [
       "<Figure size 288x288 with 1 Axes>"
      ]
     },
     "metadata": {
      "needs_background": "light"
     },
     "output_type": "display_data"
    },
    {
     "data": {
      "image/png": "[encoded data removed]",
      "text/plain": [
       "<Figure size 288x288 with 1 Axes>"
      ]
     },
     "metadata": {
      "needs_background": "light"
     },
     "output_type": "display_data"
    },
    {
     "data": {
      "image/png": "[encoded data removed]",
      "text/plain": [
       "<Figure size 288x288 with 1 Axes>"
      ]
     },
     "metadata": {
      "needs_background": "light"
     },
     "output_type": "display_data"
    },
    {
     "data": {
      "image/png": "[encoded data removed]",
      "text/plain": [
       "<Figure size 288x288 with 1 Axes>"
      ]
     },
     "metadata": {
      "needs_background": "light"
     },
     "output_type": "display_data"
    },
    {
     "data": {
      "image/png": "[encoded data removed]",
      "text/plain": [
       "<Figure size 288x288 with 1 Axes>"
      ]
     },
     "metadata": {
      "needs_background": "light"
     },
     "output_type": "display_data"
    }
   ],
   "source": [
    "for i in range(5):\n",
    "    plt.matshow(x_test[i])"
   ]
  },
  {
   "cell_type": "code",
   "execution_count": 34,
   "id": "fc396fe0",
   "metadata": {},
   "outputs": [
    {
     "name": "stdout",
     "output_type": "stream",
     "text": [
      "1/1 [==============================] - 0s 72ms/step\n"
     ]
    }
   ],
   "source": [
    "sample=model.predict(x_test[0:5])"
   ]
  },
  {
   "cell_type": "code",
   "execution_count": 35,
   "id": "98825b90",
   "metadata": {},
   "outputs": [
    {
     "data": {
      "text/plain": [
       "array([7, 2, 1, 0, 4], dtype=int64)"
      ]
     },
     "execution_count": 35,
     "metadata": {},
     "output_type": "execute_result"
    }
   ],
   "source": [
    "sample.argmax(axis=1)"
   ]
  },
  {
   "cell_type": "code",
   "execution_count": 36,
   "id": "2a003d59",
   "metadata": {},
   "outputs": [],
   "source": [
    "from sklearn.metrics import accuracy_score"
   ]
  },
  {
   "cell_type": "code",
   "execution_count": 37,
   "id": "2d0c00e1",
   "metadata": {},
   "outputs": [
    {
     "data": {
      "text/plain": [
       "0.9768"
      ]
     },
     "execution_count": 37,
     "metadata": {},
     "output_type": "execute_result"
    }
   ],
   "source": [
    "accuracy_score(y_test,y_predicted)"
   ]
  },
  {
   "cell_type": "code",
   "execution_count": 38,
   "id": "dce7a2be",
   "metadata": {},
   "outputs": [
    {
     "data": {
      "text/plain": [
       "<matplotlib.legend.Legend at 0x2a1a7d0db80>"
      ]
     },
     "execution_count": 38,
     "metadata": {},
     "output_type": "execute_result"
    },
    {
     "data": {
      "image/png": "[encoded data removed]",
      "text/plain": [
       "<Figure size 720x576 with 1 Axes>"
      ]
     },
     "metadata": {
      "needs_background": "light"
     },
     "output_type": "display_data"
    }
   ],
   "source": [
    "epochs = np.arange(0, len(history.history[\"loss\"]))\n",
    "plt.figure(figsize=(10,8))\n",
    "plt.style.use(\"ggplot\")\n",
    "\n",
    "\n",
    "# plot training and validation loss\n",
    "plt.style.use(\"ggplot\")\n",
    "plt.plot(epochs, history.history[\"loss\"], label=\"train_loss\")\n",
    "plt.plot(epochs, history.history[\"val_loss\"], label=\"val_loss\")\n",
    "plt.title(\"Training Vs Validation Loss\")\n",
    "plt.xlabel(\"Epoch #\")\n",
    "plt.ylabel(\"Loss\")\n",
    "plt.legend()"
   ]
  },
  {
   "cell_type": "markdown",
   "id": "3c6f878c",
   "metadata": {},
   "source": [
    "### *Observation from the Analysis\n",
    "    Artificial Neural Network model has a good score of 97%"
   ]
  },
  {
   "cell_type": "markdown",
   "id": "be7ea36f",
   "metadata": {},
   "source": [
    "## CNN Model"
   ]
  },
  {
   "cell_type": "markdown",
   "id": "28f495cb",
   "metadata": {},
   "source": [
    "### Initialize a sequential model again\n",
    "- define a sequential model\n",
    "- add 2 convolutional layers\n",
    "    - no of filters: 32\n",
    "    - kernel size: 3x3\n",
    "    - activation: \"relu\"\n",
    "    - input shape: (28, 28, 1) for first layer\n",
    "- flatten the data\n",
    "    - add Flatten later\n",
    "    - flatten layers flatten 2D arrays to 1D array before building the fully connected layers\n",
    "- add 2 dense layers\n",
    "    - number of neurons in first layer: 128\n",
    "    - number of neurons in last layer: number of classes\n",
    "    - activation function in first layer: relu\n",
    "    - activation function in last layer: softmax\n",
    "    - we may experiment with any number of neurons for the first Dense layer; however, the final Dense layer must have neurons equal to the number of output classes"
   ]
  },
  {
   "cell_type": "code",
   "execution_count": 39,
   "id": "ace371ce",
   "metadata": {},
   "outputs": [],
   "source": [
    "from keras.layers.convolutional import Conv2D, MaxPooling2D\n",
    "model = Sequential()\n",
    "model.add(Conv2D(filters=32, kernel_size=3, activation=\"relu\", input_shape=(28, 28, 1)))\n",
    "model.add(Conv2D(filters=32, kernel_size=3, activation=\"relu\"))\n",
    "model.add(Flatten())\n",
    "model.add(Dense(128, activation=\"relu\"))\n",
    "model.add(Dense(10, activation=\"softmax\"))"
   ]
  },
  {
   "cell_type": "markdown",
   "id": "09454a81",
   "metadata": {},
   "source": [
    "### Compile and fit the model\n",
    "- let's compile our model\n",
    "    - loss: \"sparse_categorical_crossentropy\"\n",
    "    - metrics: \"sparse_categorical_accuracy\"\n",
    "    - optimizer: \"adam\"\n",
    "- then next step will be to fit model\n",
    "    - give train data - training features and labels\n",
    "    - batch size: 32\n",
    "    - epochs: 10\n",
    "    - give validation data - testing features and labels"
   ]
  },
  {
   "cell_type": "code",
   "execution_count": 40,
   "id": "120a18c8",
   "metadata": {},
   "outputs": [
    {
     "name": "stdout",
     "output_type": "stream",
     "text": [
      "Epoch 1/10\n",
      "1500/1500 [==============================] - 192s 126ms/step - loss: 0.1261 - sparse_categorical_accuracy: 0.9613 - val_loss: 0.0612 - val_sparse_categorical_accuracy: 0.9811\n",
      "Epoch 2/10\n",
      "1500/1500 [==============================] - 189s 126ms/step - loss: 0.0387 - sparse_categorical_accuracy: 0.9876 - val_loss: 0.0466 - val_sparse_categorical_accuracy: 0.9860\n",
      "Epoch 3/10\n",
      "1500/1500 [==============================] - 188s 125ms/step - loss: 0.0220 - sparse_categorical_accuracy: 0.9930 - val_loss: 0.0471 - val_sparse_categorical_accuracy: 0.9875\n",
      "Epoch 4/10\n",
      "1500/1500 [==============================] - 190s 127ms/step - loss: 0.0155 - sparse_categorical_accuracy: 0.9945 - val_loss: 0.0518 - val_sparse_categorical_accuracy: 0.9852\n",
      "Epoch 5/10\n",
      "1500/1500 [==============================] - 188s 125ms/step - loss: 0.0107 - sparse_categorical_accuracy: 0.9964 - val_loss: 0.0552 - val_sparse_categorical_accuracy: 0.9859\n",
      "Epoch 6/10\n",
      "1500/1500 [==============================] - 194s 130ms/step - loss: 0.0078 - sparse_categorical_accuracy: 0.9974 - val_loss: 0.0681 - val_sparse_categorical_accuracy: 0.9863\n",
      "Epoch 7/10\n",
      "1500/1500 [==============================] - 245s 163ms/step - loss: 0.0082 - sparse_categorical_accuracy: 0.9973 - val_loss: 0.0514 - val_sparse_categorical_accuracy: 0.9898\n",
      "Epoch 8/10\n",
      "1500/1500 [==============================] - 274s 183ms/step - loss: 0.0042 - sparse_categorical_accuracy: 0.9986 - val_loss: 0.0572 - val_sparse_categorical_accuracy: 0.9898\n",
      "Epoch 9/10\n",
      "1500/1500 [==============================] - 228s 152ms/step - loss: 0.0058 - sparse_categorical_accuracy: 0.9982 - val_loss: 0.0731 - val_sparse_categorical_accuracy: 0.9878\n",
      "Epoch 10/10\n",
      "1500/1500 [==============================] - 244s 163ms/step - loss: 0.0045 - sparse_categorical_accuracy: 0.9987 - val_loss: 0.0600 - val_sparse_categorical_accuracy: 0.9898\n"
     ]
    }
   ],
   "source": [
    "# Compile the model\n",
    "model.compile(loss=\"sparse_categorical_crossentropy\", metrics=['sparse_categorical_accuracy'], optimizer=\"adam\")\n",
    "\n",
    "# Fit the model\n",
    "H=model.fit( x=x_train, y=y_train, batch_size=32, epochs=10, validation_split = 0.2)"
   ]
  },
  {
   "cell_type": "code",
   "execution_count": 41,
   "id": "2a35155a",
   "metadata": {},
   "outputs": [
    {
     "name": "stdout",
     "output_type": "stream",
     "text": [
      "313/313 [==============================] - 9s 23ms/step - loss: 0.0551 - sparse_categorical_accuracy: 0.9886\n",
      "\n",
      "Test accuracy: 98.9%\n"
     ]
    }
   ],
   "source": [
    "loss,acc=model.evaluate(x_test, y_test)\n",
    "print(\"\\nTest accuracy: %.1f%%\" % (100.0 * acc))"
   ]
  },
  {
   "cell_type": "code",
   "execution_count": 42,
   "id": "9b1a7c9e",
   "metadata": {},
   "outputs": [
    {
     "name": "stdout",
     "output_type": "stream",
     "text": [
      "1875/1875 [==============================] - 48s 26ms/step - loss: 0.0130 - sparse_categorical_accuracy: 0.9977\n",
      "\n",
      "Train accuracy: 99.8%\n"
     ]
    }
   ],
   "source": [
    "loss,acc=model.evaluate(x_train, y_train)\n",
    "print(\"\\nTrain accuracy: %.1f%%\" % (100.0 * acc))"
   ]
  },
  {
   "cell_type": "code",
   "execution_count": 43,
   "id": "80e0f165",
   "metadata": {},
   "outputs": [
    {
     "data": {
      "text/plain": [
       "<matplotlib.legend.Legend at 0x2a1c2735d90>"
      ]
     },
     "execution_count": 43,
     "metadata": {},
     "output_type": "execute_result"
    },
    {
     "data": {
      "image/png": "[encoded data removed]",
      "text/plain": [
       "<Figure size 720x576 with 1 Axes>"
      ]
     },
     "metadata": {},
     "output_type": "display_data"
    }
   ],
   "source": [
    "import matplotlib.pyplot as plt\n",
    "\n",
    "\n",
    "epochs = np.arange(0, len(H.history[\"loss\"]))\n",
    "plt.figure(figsize=(10,8))\n",
    "plt.style.use(\"ggplot\")\n",
    "\n",
    "\n",
    "# plot training and validation loss\n",
    "plt.style.use(\"ggplot\")\n",
    "plt.plot(epochs, H.history[\"loss\"], label=\"train_loss\")\n",
    "plt.plot(epochs, H.history[\"val_loss\"], label=\"val_loss\")\n",
    "plt.title(\"Training Vs Validation Loss\")\n",
    "plt.xlabel(\"Epoch #\")\n",
    "plt.ylabel(\"Loss\")\n",
    "plt.legend()"
   ]
  },
  {
   "cell_type": "markdown",
   "id": "e87a8fb2",
   "metadata": {},
   "source": [
    "### *Observation from Analysis\n",
    "    Convolution Neural Network model has a good score of 99%.Since Overfitting is present we use Dropout and EarlyStopping  Techniques to deal with overfitting"
   ]
  },
  {
   "cell_type": "markdown",
   "id": "d7e20683",
   "metadata": {},
   "source": [
    "## Vanilla CNN + Pooling + Dropout"
   ]
  },
  {
   "cell_type": "markdown",
   "id": "be513b5c",
   "metadata": {},
   "source": [
    "### Initialize a sequential model again\n",
    "- define a sequential model\n",
    "- add 2 convolutional layers\n",
    "    - no of filters: 32\n",
    "    - kernel size: 3x3\n",
    "    - activation: \"relu\"\n",
    "    - input shape: (28, 28, 1) for first layer\n",
    "- add a max pooling layer of size 2x2\n",
    "- add a dropout layer\n",
    "    - dropout layers fight with the overfitting by disregarding some of the neurons while training\n",
    "    - use dropout rate 0.2\n",
    "- flatten the data\n",
    "    - add Flatten later\n",
    "    - flatten layers flatten 2D arrays to 1D array before building the fully connected layers\n",
    "- add 2 dense layers\n",
    "    - number of neurons in first layer: 128\n",
    "    - number of neurons in last layer: number of classes\n",
    "    - activation function in first layer: relu\n",
    "    - activation function in last layer: softmax\n",
    "    - we may experiment with any number of neurons for the first Dense layer; however, the final Dense layer must have neurons equal to the number of output classes"
   ]
  },
  {
   "cell_type": "code",
   "execution_count": 44,
   "id": "4190e0af",
   "metadata": {},
   "outputs": [],
   "source": [
    "# Initialize the model\n",
    "model = Sequential()\n",
    "\n",
    "# Add a Convolutional Layer with 32 filters of size 3X3 and activation function as 'relu' \n",
    "model.add(Conv2D(filters=32, kernel_size=3, activation=\"relu\", input_shape=(28, 28, 1)))\n",
    "\n",
    "# Add a Convolutional Layer with 32 filters of size 3X3 and activation function as 'relu' \n",
    "model.add(Conv2D(filters=32, kernel_size=3, activation=\"relu\"))\n",
    "\n",
    "# Add a MaxPooling Layer of size 2X2 \n",
    "model.add(MaxPooling2D(pool_size=(2, 2)))\n",
    "\n",
    "# Apply Dropout\n",
    "model.add(Dropout(rate=0.2))\n",
    "\n",
    "# Flatten the layer\n",
    "model.add(Flatten())\n",
    "\n",
    "# Add Fully Connected Layer with 128 units and activation function as 'relu'\n",
    "model.add(Dense(128, activation=\"relu\",kernel_regularizer=tf.keras.regularizers.l2(0.1)))\n",
    "\n",
    "\n",
    "\n",
    "#Add Fully Connected Layer with 10 units and activation function as 'softmax'\n",
    "model.add(Dense(10, activation=\"softmax\"))"
   ]
  },
  {
   "cell_type": "markdown",
   "id": "259e8dcf",
   "metadata": {},
   "source": [
    "### Compile and fit the model\n",
    "- let's compile our model\n",
    "    - loss: \"sparse_categorical_crossentropy\"\n",
    "    - metrics: \"sparse_categorical_accuracy\"\n",
    "    - optimizer: \"adam\"\n",
    "- Use EarlyStopping\n",
    "- then next step will be to fit model\n",
    "    - give train data - training features and labels\n",
    "    - batch size: 32\n",
    "    - epochs: 10\n",
    "    - give validation data - testing features and labels"
   ]
  },
  {
   "cell_type": "code",
   "execution_count": 45,
   "id": "1cf6a62b",
   "metadata": {},
   "outputs": [
    {
     "name": "stdout",
     "output_type": "stream",
     "text": [
      "Epoch 1/10\n",
      "1875/1875 [==============================] - ETA: 0s - loss: 0.7620 - sparse_categorical_accuracy: 0.9071WARNING:tensorflow:Early stopping conditioned on metric `val_accuracy` which is not available. Available metrics are: loss,sparse_categorical_accuracy,val_loss,val_sparse_categorical_accuracy\n",
      "1875/1875 [==============================] - 214s 99ms/step - loss: 0.7620 - sparse_categorical_accuracy: 0.9071 - val_loss: 0.4458 - val_sparse_categorical_accuracy: 0.9472\n",
      "Epoch 2/10\n",
      "1875/1875 [==============================] - ETA: 0s - loss: 0.4329 - sparse_categorical_accuracy: 0.9421WARNING:tensorflow:Early stopping conditioned on metric `val_accuracy` which is not available. Available metrics are: loss,sparse_categorical_accuracy,val_loss,val_sparse_categorical_accuracy\n",
      "1875/1875 [==============================] - 205s 110ms/step - loss: 0.4329 - sparse_categorical_accuracy: 0.9421 - val_loss: 0.3383 - val_sparse_categorical_accuracy: 0.9583\n",
      "Epoch 3/10\n",
      "1875/1875 [==============================] - ETA: 0s - loss: 0.3689 - sparse_categorical_accuracy: 0.9492WARNING:tensorflow:Early stopping conditioned on metric `val_accuracy` which is not available. Available metrics are: loss,sparse_categorical_accuracy,val_loss,val_sparse_categorical_accuracy\n",
      "1875/1875 [==============================] - 209s 112ms/step - loss: 0.3689 - sparse_categorical_accuracy: 0.9492 - val_loss: 0.3133 - val_sparse_categorical_accuracy: 0.9636\n",
      "Epoch 4/10\n",
      "1875/1875 [==============================] - ETA: 0s - loss: 0.3258 - sparse_categorical_accuracy: 0.9539WARNING:tensorflow:Early stopping conditioned on metric `val_accuracy` which is not available. Available metrics are: loss,sparse_categorical_accuracy,val_loss,val_sparse_categorical_accuracy\n",
      "1875/1875 [==============================] - 182s 97ms/step - loss: 0.3258 - sparse_categorical_accuracy: 0.9539 - val_loss: 0.3063 - val_sparse_categorical_accuracy: 0.9551\n",
      "Epoch 5/10\n",
      "1875/1875 [==============================] - ETA: 0s - loss: 0.2992 - sparse_categorical_accuracy: 0.9579WARNING:tensorflow:Early stopping conditioned on metric `val_accuracy` which is not available. Available metrics are: loss,sparse_categorical_accuracy,val_loss,val_sparse_categorical_accuracy\n",
      "1875/1875 [==============================] - 194s 103ms/step - loss: 0.2992 - sparse_categorical_accuracy: 0.9579 - val_loss: 0.2643 - val_sparse_categorical_accuracy: 0.9706\n",
      "Epoch 6/10\n",
      "1875/1875 [==============================] - ETA: 0s - loss: 0.2832 - sparse_categorical_accuracy: 0.9598WARNING:tensorflow:Early stopping conditioned on metric `val_accuracy` which is not available. Available metrics are: loss,sparse_categorical_accuracy,val_loss,val_sparse_categorical_accuracy\n",
      "1875/1875 [==============================] - 189s 101ms/step - loss: 0.2832 - sparse_categorical_accuracy: 0.9598 - val_loss: 0.2220 - val_sparse_categorical_accuracy: 0.9731\n",
      "Epoch 7/10\n",
      "1875/1875 [==============================] - ETA: 0s - loss: 0.2721 - sparse_categorical_accuracy: 0.9613WARNING:tensorflow:Early stopping conditioned on metric `val_accuracy` which is not available. Available metrics are: loss,sparse_categorical_accuracy,val_loss,val_sparse_categorical_accuracy\n",
      "1875/1875 [==============================] - 184s 98ms/step - loss: 0.2721 - sparse_categorical_accuracy: 0.9613 - val_loss: 0.2335 - val_sparse_categorical_accuracy: 0.9731\n",
      "Epoch 8/10\n",
      "1875/1875 [==============================] - ETA: 0s - loss: 0.2583 - sparse_categorical_accuracy: 0.9635WARNING:tensorflow:Early stopping conditioned on metric `val_accuracy` which is not available. Available metrics are: loss,sparse_categorical_accuracy,val_loss,val_sparse_categorical_accuracy\n",
      "1875/1875 [==============================] - 199s 106ms/step - loss: 0.2583 - sparse_categorical_accuracy: 0.9635 - val_loss: 0.2056 - val_sparse_categorical_accuracy: 0.9786\n",
      "Epoch 9/10\n",
      "1875/1875 [==============================] - ETA: 0s - loss: 0.2533 - sparse_categorical_accuracy: 0.9643WARNING:tensorflow:Early stopping conditioned on metric `val_accuracy` which is not available. Available metrics are: loss,sparse_categorical_accuracy,val_loss,val_sparse_categorical_accuracy\n",
      "1875/1875 [==============================] - 190s 102ms/step - loss: 0.2533 - sparse_categorical_accuracy: 0.9643 - val_loss: 0.2264 - val_sparse_categorical_accuracy: 0.9732\n",
      "Epoch 10/10\n",
      "1875/1875 [==============================] - ETA: 0s - loss: 0.2478 - sparse_categorical_accuracy: 0.9651WARNING:tensorflow:Early stopping conditioned on metric `val_accuracy` which is not available. Available metrics are: loss,sparse_categorical_accuracy,val_loss,val_sparse_categorical_accuracy\n",
      "1875/1875 [==============================] - 218s 116ms/step - loss: 0.2478 - sparse_categorical_accuracy: 0.9651 - val_loss: 0.2143 - val_sparse_categorical_accuracy: 0.9749\n"
     ]
    }
   ],
   "source": [
    "# Compile the model\n",
    "model.compile(loss=\"sparse_categorical_crossentropy\", metrics=['sparse_categorical_accuracy'], optimizer=\"adam\")\n",
    "\n",
    "# Use earlystopping\n",
    "callback = tf.keras.callbacks.EarlyStopping(monitor='val_accuracy', patience=2, min_delta=0.01)\n",
    "\n",
    "# Fit the model\n",
    "H=model.fit(x=x_train, y=y_train, batch_size=32, epochs=10, validation_data=(x_test, y_test), callbacks=[callback])"
   ]
  },
  {
   "cell_type": "markdown",
   "id": "cec588d3",
   "metadata": {},
   "source": [
    "### Final loss and accuracy"
   ]
  },
  {
   "cell_type": "code",
   "execution_count": 47,
   "id": "a05fc0d4",
   "metadata": {},
   "outputs": [
    {
     "name": "stdout",
     "output_type": "stream",
     "text": [
      "313/313 [==============================] - 6s 20ms/step - loss: 0.2143 - sparse_categorical_accuracy: 0.9749\n",
      "\n",
      "Test accuracy: 97.5%\n"
     ]
    }
   ],
   "source": [
    "loss,acc=model.evaluate(x_test, y_test)\n",
    "print(\"\\nTest accuracy: %.1f%%\" % (100.0 * acc))"
   ]
  },
  {
   "cell_type": "code",
   "execution_count": 48,
   "id": "18fc3c8d",
   "metadata": {},
   "outputs": [
    {
     "name": "stdout",
     "output_type": "stream",
     "text": [
      "1875/1875 [==============================] - 36s 19ms/step - loss: 0.2242 - sparse_categorical_accuracy: 0.9710\n",
      "\n",
      "Train accuracy: 97.1%\n"
     ]
    }
   ],
   "source": [
    "loss,acc=model.evaluate(x_train, y_train)\n",
    "print(\"\\nTrain accuracy: %.1f%%\" % (100.0 * acc))"
   ]
  },
  {
   "cell_type": "code",
   "execution_count": 49,
   "id": "1f05c010",
   "metadata": {},
   "outputs": [
    {
     "data": {
      "text/plain": [
       "<matplotlib.legend.Legend at 0x2a1c2f11280>"
      ]
     },
     "execution_count": 49,
     "metadata": {},
     "output_type": "execute_result"
    },
    {
     "data": {
      "image/png": "[encoded data removed]",
      "text/plain": [
       "<Figure size 720x576 with 1 Axes>"
      ]
     },
     "metadata": {},
     "output_type": "display_data"
    }
   ],
   "source": [
    "import matplotlib.pyplot as plt\n",
    "\n",
    "\n",
    "epochs = np.arange(0, len(H.history[\"loss\"]))\n",
    "plt.figure(figsize=(10,8))\n",
    "plt.style.use(\"ggplot\")\n",
    "\n",
    "\n",
    "# plot training and validation loss\n",
    "plt.style.use(\"ggplot\")\n",
    "plt.plot(epochs, H.history[\"loss\"], label=\"train_loss\")\n",
    "plt.plot(epochs, H.history[\"val_loss\"], label=\"val_loss\")\n",
    "plt.title(\"Training Vs Validation Loss\")\n",
    "plt.xlabel(\"Epoch #\")\n",
    "plt.ylabel(\"Loss\")\n",
    "plt.legend()"
   ]
  },
  {
   "cell_type": "markdown",
   "id": "10a7113d",
   "metadata": {},
   "source": [
    "## Observation from the above Analysis.\n",
    "    1.Here we have handled the Overfitting issue with EarlyStopping and Dropout.\n",
    "    2.CNN model has a good score of 97% with no overfitting."
   ]
  },
  {
   "cell_type": "markdown",
   "id": "f1a33032",
   "metadata": {},
   "source": [
    "## MODEL COMPARRISION REPORT"
   ]
  },
  {
   "cell_type": "markdown",
   "id": "c5234e8c",
   "metadata": {},
   "source": [
    "1. Logistic Regression - Logistic regression aims to measure the relationship between a categorical dependent variable and one or more independent variables (usually continuous) by plotting the dependent variables' probability scores.\n",
    "        Model Predicted value [7 2 1 0 4]\n",
    "        Actual Value [7 2 1 0 4]\n",
    "        Model Score 0.9258"
   ]
  },
  {
   "cell_type": "markdown",
   "id": "eb27850f",
   "metadata": {},
   "source": [
    "2. Support Vector Machine - Support vector classifiers can be applied to the recognition of isolated handwritten digits optically scanned.\n",
    "        Model Predicted value [7 2 1 0 4]\n",
    "        Actual Value [7 2 1 0 4]\n",
    "        Model Score 0.9792"
   ]
  },
  {
   "cell_type": "markdown",
   "id": "5e3e402f",
   "metadata": {},
   "source": [
    "3. K-Nearest Neighbors - KNN works by finding the distances between a query and all the examples in the data, selecting the specified number examples (K) closest to the query, then votes for the most frequent label (in the case of classification) or averages the labels (in the case of regression).\n",
    "        Model Predicted value [7 2 1 0 4]\n",
    "        Actual Value [7 2 1 0 4]\n",
    "        Model Score 0.9688"
   ]
  },
  {
   "cell_type": "markdown",
   "id": "229502ce",
   "metadata": {},
   "source": [
    "4. Artificial Neural Network - ANN are useful for pattern matching applications. Pattern matching consists of the ability to identify the class of input signals or patterns. Pattern matching ANN are typically trained using supervised learning techniques.\n",
    "        Model Score 0.9768\n"
   ]
  },
  {
   "cell_type": "markdown",
   "id": "756c671a",
   "metadata": {},
   "source": [
    "5. Convolutional Neural Network - A simple artificial neural network (ANN) has an input layer, an output layer and some hidden l ayers between the input and output layer. CNN has a very similar architecture as ANN.\n",
    "        Model Score 0.989 with overfitting\n",
    "        \n",
    "        Model Score 0.975 with no overfitting\n"
   ]
  },
  {
   "cell_type": "markdown",
   "id": "d2f7a34c",
   "metadata": {},
   "source": [
    "### From the above CNN has good accuracy with no overfitting"
   ]
  },
  {
   "cell_type": "markdown",
   "id": "b1d01ee0",
   "metadata": {},
   "source": [
    "## REPORT ON CHALLENGES FACED\n",
    "    1.Data Preprocessing\n",
    "        - Normalizing the values in the array as it ranges from 0 to 255\n",
    "        - Reshaping x_train and x_test\n",
    "        - Resizing image to make it suitable for applying operations for Neural Network\n",
    "    2.Model Buliding And Evalution\n",
    "        - Randomness is handled by using metrics as sparse_categorical_accuracy\n",
    "        - EarlyStopping and Dropout used for overfitting"
   ]
  },
  {
   "cell_type": "code",
   "execution_count": null,
   "id": "1557278b",
   "metadata": {},
   "outputs": [],
   "source": []
  }
 ],
 "metadata": {
  "kernelspec": {
   "display_name": "Python 3 (ipykernel)",
   "language": "python",
   "name": "python3"
  },
  "language_info": {
   "codemirror_mode": {
    "name": "ipython",
    "version": 3
   },
   "file_extension": ".py",
   "mimetype": "text/x-python",
   "name": "python",
   "nbconvert_exporter": "python",
   "pygments_lexer": "ipython3",
   "version": "3.9.12"
  }
 },
 "nbformat": 4,
 "nbformat_minor": 5
}
